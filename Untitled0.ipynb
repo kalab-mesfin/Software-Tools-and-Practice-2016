{
  "nbformat": 4,
  "nbformat_minor": 0,
  "metadata": {
    "colab": {
      "provenance": [],
      "authorship_tag": "ABX9TyM6RWoDAhmzOzaGlRs1P3iO",
      "include_colab_link": true
    },
    "kernelspec": {
      "name": "python3",
      "display_name": "Python 3"
    },
    "language_info": {
      "name": "python"
    }
  },
  "cells": [
    {
      "cell_type": "markdown",
      "metadata": {
        "id": "view-in-github",
        "colab_type": "text"
      },
      "source": [
        "<a href=\"https://colab.research.google.com/github/kalab-mesfin/Software-Tools-and-Practice-2016/blob/master/Untitled0.ipynb\" target=\"_parent\"><img src=\"https://colab.research.google.com/assets/colab-badge.svg\" alt=\"Open In Colab\"/></a>"
      ]
    },
    {
      "cell_type": "code",
      "source": [
        "import re\n",
        "\n",
        "def validate_email(email):\n",
        "\n",
        "    pattern = r'^[a-zA-Z0-9_.+-]+@[a-zA-Z0-9-]+\\.[a-zA-Z0-9-.]+$'\n",
        "    if re.match(pattern, email):\n",
        "        return True\n",
        "    else:\n",
        "        return False\n",
        "\n",
        "email = input(\"Enter an email address: \")\n",
        "if validate_email(email):\n",
        "    print(\"Valid email address!\")\n",
        "else:\n",
        "    print(\"Invalid email address!\")"
      ],
      "metadata": {
        "id": "EKTWfeBOdLtQ"
      },
      "execution_count": null,
      "outputs": []
    },
    {
      "cell_type": "code",
      "source": [
        "import re\n",
        "\n",
        "def validate_password(password):\n",
        "\n",
        "    if len(password) <= 8:\n",
        "        return False, \"Password must be greater than 8 characters.\"\n",
        "\n",
        "\n",
        "    if not re.search(r'[A-Z]', password):\n",
        "        return False, \"Password must contain at least one capital letter.\"\n",
        "\n",
        "    # Check for at least one lowercase letter\n",
        "    if not re.search(r'[a-z]', password):\n",
        "        return False, \"Password must contain at least one lowercase letter.\"\n",
        "\n",
        "    # Check for at least one digit\n",
        "    if not re.search(r'[0-9]', password):\n",
        "        return False, \"Password must contain at least one digit.\"\n",
        "\n",
        "    # Check for at least one special character\n",
        "    if not re.search(r'[!@#$%^&*(),.?\":{}|<>]', password):\n",
        "        return False, \"Password must contain at least one special character.\"\n",
        "\n",
        "    # If all checks pass\n",
        "    return True, \"Password is valid.\"\n",
        "\n",
        "# Test the function\n",
        "password = input(\"Enter a password: \")\n",
        "is_valid, message = validate_password(password)\n",
        "print(message)\n"
      ],
      "metadata": {
        "id": "-DLgcNqLdooU"
      },
      "execution_count": null,
      "outputs": []
    }
  ]
}